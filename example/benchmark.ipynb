{
 "cells": [
  {
   "cell_type": "code",
   "execution_count": 1,
   "id": "02e6ca13",
   "metadata": {},
   "outputs": [
    {
     "name": "stdout",
     "output_type": "stream",
     "text": [
      "pyBO version: 1.0.1. updated on 2024-03-02\n"
     ]
    }
   ],
   "source": [
    "import numpy as np\n",
    "import matplotlib.pyplot\n",
    "from randomNN import randomNN\n",
    "from pyBO import pyBO"
   ]
  },
  {
   "cell_type": "code",
   "execution_count": null,
   "id": "e642c6fd",
   "metadata": {},
   "outputs": [],
   "source": [
    "benchmark_hyper_params = {}\n",
    "ndim = 2\n",
    "benchmark_hyper_params[ndim] = {}\n",
    "for budget in [20,30,40]:\n",
    "    benchmark_hyper_params[ndim][budget] = []\n",
    "    for n_init in [int(0.2*budget),int(0.3*budget),int(0.4*budget)]:\n",
    "        for ibetadecay in [None, n_init +int(0.3*(budget-n_init)),  n_init +int(0.6*(budget-n_init))]:\n",
    "            for imovingWindow in [None, n_init +int(0.3*(budget-n_init)),  n_init +int(0.6*(budget-n_init))]:\n",
    "                for isafebeta in [None, n_init +int(0.3*(budget-n_init)),  n_init +int(0.6*(budget-n_init))]:\n",
    "                    benchmark_hyper_params[ndim][budget].append(budget,n_init,ibetadecay,imovingWindow,isafebeta)\n",
    "ndim = 4\n",
    "benchmark_hyper_params[ndim] = {}\n",
    "for budget in [40,60,80]:\n",
    "    benchmark_hyper_params[ndim][budget] = []\n",
    "    for n_init in [int(0.2*budget),int(0.3*budget),int(0.4*budget)]:\n",
    "        for ibetadecay in [None, n_init +int(0.3*(budget-n_init)),  n_init +int(0.6*(budget-n_init))]:\n",
    "            for imovingWindow in [None, n_init +int(0.3*(budget-n_init)),  n_init +int(0.6*(budget-n_init))]:\n",
    "                for isafebeta in [None, n_init +int(0.3*(budget-n_init)),  n_init +int(0.6*(budget-n_init))]:\n",
    "                    benchmark_hyper_params[ndim][budget].append(budget,n_init,ibetadecay,imovingWindow,isafebeta)\n",
    "ndim = 6\n",
    "benchmark_hyper_params[ndim] = {}\n",
    "for budget in [60,100,140]:\n",
    "    benchmark_hyper_params[ndim][budget] = []\n",
    "    for n_init in [int(0.2*budget),int(0.3*budget),int(0.4*budget)]:\n",
    "        for ibetadecay in [None, n_init +int(0.3*(budget-n_init)),  n_init +int(0.6*(budget-n_init))]:\n",
    "            for imovingWindow in [None, n_init +int(0.3*(budget-n_init)),  n_init +int(0.6*(budget-n_init))]:\n",
    "                for isafebeta in [None, n_init +int(0.3*(budget-n_init)),  n_init +int(0.6*(budget-n_init))]:\n",
    "                    benchmark_hyper_params[ndim][budget].append(budget,n_init,ibetadecay,imovingWindow,isafebeta)"
   ]
  },
  {
   "cell_type": "markdown",
   "id": "b64a2075",
   "metadata": {},
   "source": [
    "# randomNN var is 1 if input var is 1"
   ]
  },
  {
   "cell_type": "code",
   "execution_count": 2,
   "id": "48fd18c0",
   "metadata": {},
   "outputs": [
    {
     "name": "stdout",
     "output_type": "stream",
     "text": [
      "2 1.005450336671933\n",
      "4 1.0635085671919413\n",
      "6 0.9820406719692341\n",
      "8 0.9951638265008312\n",
      "16 1.0301106204722568\n"
     ]
    }
   ],
   "source": [
    "for ndim in [2,4,6,8,16]:\n",
    "    vm = randomNN(ndim,1)\n",
    "    x = np.random.randn(1024*8,ndim)\n",
    "    print(ndim,np.std(vm(x)))"
   ]
  },
  {
   "cell_type": "markdown",
   "id": "1973d165",
   "metadata": {},
   "source": [
    "# benchmark"
   ]
  },
  {
   "cell_type": "code",
   "execution_count": 3,
   "id": "e9b9a806",
   "metadata": {},
   "outputs": [],
   "source": [
    "def benchmark_1(fun, ndim, budget, n_init, ibetadecay=None, imovingWindow=None, isafebeta=None, beta0=9):\n",
    "    bounds = np.array([(-3,3) for i in range(ndim)])\n",
    "    bounds_diff = bounds[:,1] - bounds[:,0]\n",
    "    bo, X_pending, Y_pending_future = pyBO.runBO(\n",
    "                                        fun,  \n",
    "                                        bounds = bounds,\n",
    "                                        n_init = n_init,\n",
    "                                        budget = n_init+1,\n",
    "                                        batch_size=1,\n",
    "                                        )\n",
    "    while(len(bo.y)<budget):\n",
    "        beta = beta0\n",
    "        if ibetadecay:\n",
    "            if len(bo.y) > ibetadecay:\n",
    "                beta = max(1, 1  +(beta0-1)*(1-(len(bo.y)-ibetadecay)/(budget-ibetadecay) ) )\n",
    "        acquisition_func_args={'beta':beta}\n",
    "        if isafebeta:\n",
    "            if len(bo.y) > isafebeta:\n",
    "                acquisition_func_args['safe_beta'] = 9\n",
    "        if imovingWindow:\n",
    "            if len(bo.y) > imovingWindow:\n",
    "                x_best,y_best = bo.best_sofar()\n",
    "                bounds = np.array(list(zip(x_best-0.1*bounds_diff, x_best+0.1*bounds_diff)))\n",
    "        X_pending, Y_pending_future= bo.loop( \n",
    "                            n_loop=1,  # number of additional optimization interation\n",
    "                            func_obj = fun,\n",
    "                            bounds = bounds,\n",
    "                            acquisition_func_args = acquisition_func_args,\n",
    "                            X_pending = X_pending, \n",
    "                            Y_pending_future = Y_pending_future,\n",
    "                            batch_size = 1,\n",
    "                            )\n",
    "    x_best,y_best = bo.best_sofar()\n",
    "    return y_best"
   ]
  },
  {
   "cell_type": "code",
   "execution_count": null,
   "id": "2c906739",
   "metadata": {},
   "outputs": [],
   "source": [
    "ndim = 2\n",
    "benchmark_hyper_params[ndim] = {}\n",
    "for budget in [20,30,40]:\n",
    "    benchmark_hyper_params[ndim][budget] = []\n",
    "    for n_init in [int(0.2*budget),int(0.3*budget),int(0.4*budget)]:\n",
    "        for ibetadecay in [None, n_init +int(0.3*(budget-n_init)),  n_init +int(0.6*(budget-n_init))]:\n",
    "            for imovingWindow in [None, n_init +int(0.3*(budget-n_init)),  n_init +int(0.6*(budget-n_init))]:\n",
    "                for isafebeta in [None, n_init +int(0.3*(budget-n_init)),  n_init +int(0.6*(budget-n_init))]:\n",
    "                    benchmark_hyper_params[ndim][budget].append(budget,n_init,ibetadecay,imovingWindow,isafebeta)"
   ]
  }
 ],
 "metadata": {
  "kernelspec": {
   "display_name": "Python 3 (ipykernel)",
   "language": "python",
   "name": "python3"
  },
  "language_info": {
   "codemirror_mode": {
    "name": "ipython",
    "version": 3
   },
   "file_extension": ".py",
   "mimetype": "text/x-python",
   "name": "python",
   "nbconvert_exporter": "python",
   "pygments_lexer": "ipython3",
   "version": "3.9.7"
  }
 },
 "nbformat": 4,
 "nbformat_minor": 5
}
