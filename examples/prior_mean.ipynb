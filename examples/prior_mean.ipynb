{
 "cells": [
  {
   "cell_type": "code",
   "execution_count": 1,
   "id": "6f12e246",
   "metadata": {},
   "outputs": [],
   "source": [
    "import numpy as np\n",
    "import sys\n",
    "import matplotlib.pyplot as plt\n",
    "import time\n",
    "import concurrent\n",
    "from scipy.optimize import rosen"
   ]
  },
  {
   "cell_type": "code",
   "execution_count": 2,
   "id": "e930ee3e",
   "metadata": {},
   "outputs": [],
   "source": [
    "from pyBO import pyBO\n",
    "from pyBO import Auto\n",
    "from pyBO.model import GaussianProcess\n",
    "from pyBO.covfunc import squaredExponential, matern52, matern32\n",
    "from pyBO.util import proximal_ordered_init_sampler"
   ]
  },
  {
   "cell_type": "code",
   "execution_count": 3,
   "id": "d9392981",
   "metadata": {},
   "outputs": [],
   "source": [
    "# budget = 32\n",
    "n_init = 2\n",
    "ndim = 2\n",
    "bounds = np.array(((-2,2),)*ndim)\n",
    "\n",
    "evaluation_wait_time = 2"
   ]
  },
  {
   "cell_type": "code",
   "execution_count": 4,
   "id": "f3312bbe",
   "metadata": {},
   "outputs": [],
   "source": [
    "def np_str(x,precision=3):\n",
    "    return np.array2string(x, precision=precision)"
   ]
  },
  {
   "cell_type": "markdown",
   "id": "45969492",
   "metadata": {},
   "source": [
    "### cost func"
   ]
  },
  {
   "cell_type": "code",
   "execution_count": 5,
   "id": "0f945ca6",
   "metadata": {},
   "outputs": [],
   "source": [
    "def bilog_inv_rosen(x):\n",
    "    y = -rosen(x)\n",
    "    return np.sign(y)*np.log(1+np.abs(y))"
   ]
  },
  {
   "cell_type": "code",
   "execution_count": 6,
   "id": "3fa5b8e1",
   "metadata": {},
   "outputs": [],
   "source": [
    "def bilog_inv_rosen_vec(x):\n",
    "    y = np.zeros(len(x))\n",
    "    for i in range(len(x)):\n",
    "        y[i] = bilog_inv_rosen(x[i,:])\n",
    "    return y"
   ]
  },
  {
   "cell_type": "code",
   "execution_count": 7,
   "id": "0adc1750",
   "metadata": {},
   "outputs": [],
   "source": [
    "def delayed_bilog_inv_rosen(x):\n",
    "    time.sleep(evaluation_wait_time)\n",
    "    return bilog_inv_rosen(x)"
   ]
  },
  {
   "cell_type": "markdown",
   "id": "86f0c755",
   "metadata": {},
   "source": [
    "### prior mean model"
   ]
  },
  {
   "cell_type": "code",
   "execution_count": 8,
   "id": "269482ae",
   "metadata": {},
   "outputs": [],
   "source": [
    "def quadratic(x):\n",
    "    return np.sum(x**2,axis=1).reshape(-1,1)"
   ]
  },
  {
   "cell_type": "code",
   "execution_count": 9,
   "id": "26062da8",
   "metadata": {},
   "outputs": [],
   "source": [
    "prior_mean_model = quadratic"
   ]
  },
  {
   "cell_type": "markdown",
   "id": "bed8fd2f",
   "metadata": {},
   "source": [
    "# asynchronous BO"
   ]
  },
  {
   "cell_type": "markdown",
   "id": "8861e5a7",
   "metadata": {},
   "source": [
    "##### init "
   ]
  },
  {
   "cell_type": "code",
   "execution_count": 10,
   "id": "e7bd6aa0",
   "metadata": {},
   "outputs": [],
   "source": [
    "x0 = np.random.rand(1,ndim)*(bounds[:,1]-bounds[:,0])+bounds[:,0]  # current set point\n",
    "y0 = bilog_inv_rosen_vec(x0)"
   ]
  },
  {
   "cell_type": "markdown",
   "id": "c6c8599e",
   "metadata": {},
   "source": [
    "##### assuming decision parameter polarity change is costly"
   ]
  },
  {
   "cell_type": "code",
   "execution_count": 11,
   "id": "1186f77f",
   "metadata": {},
   "outputs": [],
   "source": [
    "if n_init>1:\n",
    "    train_x = proximal_ordered_init_sampler(n_init-1,bounds=bounds,x0=x0,ramping_rate=np.ones(ndim),polarity_change_time=10,method='sobol',seed=None)\n",
    "    train_y = bilog_inv_rosen_vec(train_x)\n",
    "    train_x = np.concatenate((x0,train_x),axis=0)\n",
    "    train_y = np.concatenate((y0,train_y),axis=0)\n",
    "else:\n",
    "    train_x = x0\n",
    "    train_y = y0"
   ]
  },
  {
   "cell_type": "code",
   "execution_count": 12,
   "id": "5774431d",
   "metadata": {},
   "outputs": [
    {
     "data": {
      "text/plain": [
       "(-2.0, 2.0)"
      ]
     },
     "execution_count": 12,
     "metadata": {},
     "output_type": "execute_result"
    },
    {
     "data": {
      "image/png": "[encoded data removed]",
      "text/plain": [
       "<Figure size 216x216 with 1 Axes>"
      ]
     },
     "metadata": {
      "needs_background": "light"
     },
     "output_type": "display_data"
    }
   ],
   "source": [
    "# check initial candidates are ordered to minimize ramping time including polarity change time\n",
    "fig,ax=plt.subplots(figsize=(3,3))\n",
    "ax.plot(train_x[:,0],train_x[:,1],alpha=0.5,c='r')\n",
    "ax.scatter(train_x[:,0],train_x[:,1])\n",
    "ax.hlines(0,bounds[0,0],bounds[0,1],ls='--',color='k')\n",
    "ax.vlines(0,bounds[1,0],bounds[1,1],ls='--',color='k')\n",
    "ax.set_xlim(bounds[0,0],bounds[0,1])\n",
    "ax.set_ylim(bounds[1,0],bounds[1,1])"
   ]
  },
  {
   "cell_type": "code",
   "execution_count": 13,
   "id": "af279089",
   "metadata": {},
   "outputs": [],
   "source": [
    "model = GaussianProcess(matern52())\n",
    "bo = pyBO.BO(\n",
    "            model = model,\n",
    "            x = train_x, \n",
    "            y = train_y,\n",
    "            bounds = bounds,\n",
    "            acquisition_func = 'EI',\n",
    "            prior_mean_model = prior_mean_model\n",
    "         )"
   ]
  },
  {
   "cell_type": "code",
   "execution_count": 14,
   "id": "6d5948a5",
   "metadata": {},
   "outputs": [
    {
     "name": "stdout",
     "output_type": "stream",
     "text": [
      "[████████████████████████████████████████] 100%/100%\n",
      "\n"
     ]
    },
    {
     "data": {
      "image/png": "[encoded data removed]",
      "text/plain": [
       "<Figure size 288x216 with 2 Axes>"
      ]
     },
     "metadata": {
      "needs_background": "light"
     },
     "output_type": "display_data"
    }
   ],
   "source": [
    "# plot initialized model with initial data. \n",
    "fig,ax = plt.subplots(figsize=(4,3))\n",
    "# project maximum along the dimensions orthogonal to the porjected dimension\n",
    "# projection dimensions are dim_xaxis=0,dim_yaxis=1 by default\n",
    "# the goal of BO is maximization. \n",
    "bo.plot_model_2D_projection(project_maximum=True,fig=fig,ax=ax)\n",
    "fig.tight_layout()"
   ]
  },
  {
   "cell_type": "code",
   "execution_count": 15,
   "id": "07a06e0e",
   "metadata": {},
   "outputs": [
    {
     "name": "stdout",
     "output_type": "stream",
     "text": [
      "[████████████████████████████████████████] 100%/100%\n",
      "\n"
     ]
    },
    {
     "data": {
      "image/png": "[encoded data removed]",
      "text/plain": [
       "<Figure size 288x216 with 2 Axes>"
      ]
     },
     "metadata": {
      "needs_background": "light"
     },
     "output_type": "display_data"
    }
   ],
   "source": [
    "fig,ax = plt.subplots(figsize=(4,3))\n",
    "bo.plot_acquisition_2D_projection(project_maximum=True,fig=fig,ax=ax)\n",
    "fig.tight_layout()"
   ]
  },
  {
   "cell_type": "code",
   "execution_count": 16,
   "id": "1529b531",
   "metadata": {},
   "outputs": [
    {
     "data": {
      "text/plain": [
       "array([[-2,  2],\n",
       "       [-2,  2]])"
      ]
     },
     "execution_count": 16,
     "metadata": {},
     "output_type": "execute_result"
    }
   ],
   "source": [
    "##### remind bounds\n",
    "bounds"
   ]
  },
  {
   "cell_type": "markdown",
   "id": "1ac029e4",
   "metadata": {},
   "source": [
    "###### test favor center"
   ]
  },
  {
   "cell_type": "code",
   "execution_count": 17,
   "id": "86d6cca8",
   "metadata": {
    "scrolled": false
   },
   "outputs": [
    {
     "data": {
      "text/plain": [
       "array([[2.83922096e-06, 1.68871041e-05]])"
      ]
     },
     "execution_count": 17,
     "metadata": {},
     "output_type": "execute_result"
    }
   ],
   "source": [
    "#default querry acquisition function is 'EI'\n",
    "x1 = bo.query_candidates(bounds = bounds,\n",
    "                         X_favor = np.zeros(ndim),\n",
    "                         L_favor = 0.2,\n",
    "                         C_favor = 100,\n",
    "                         )\n",
    "bo.remove_qeury_record()  # remove this test query record\n",
    "x1  # resulting candidate is near the center"
   ]
  },
  {
   "cell_type": "markdown",
   "id": "26046040",
   "metadata": {},
   "source": [
    "###### test penalize center"
   ]
  },
  {
   "cell_type": "code",
   "execution_count": 18,
   "id": "cbb3c215",
   "metadata": {},
   "outputs": [
    {
     "data": {
      "text/plain": [
       "array([[2., 2.]])"
      ]
     },
     "execution_count": 18,
     "metadata": {},
     "output_type": "execute_result"
    }
   ],
   "source": [
    "x1 = bo.query_candidates(bounds = bounds,\n",
    "                         X_penal = np.zeros(ndim),\n",
    "                         L_penal = 1.0,\n",
    "                         C_penal = 100)\n",
    "bo.remove_qeury_record() \n",
    "x1 # resulting candidate is far from the center"
   ]
  },
  {
   "cell_type": "markdown",
   "id": "aca5835a",
   "metadata": {},
   "source": [
    "###### 1st query "
   ]
  },
  {
   "cell_type": "code",
   "execution_count": 19,
   "id": "9f618e74",
   "metadata": {},
   "outputs": [],
   "source": [
    "# w/o penalization  \n",
    "# defult bounds is same as the most recent one\n",
    "x1 = bo.query_candidates( X_current = train_x[-1:,:],  # this is used to impose polarity change penality\n",
    "                          polarity_penalty = 0.5,\n",
    "                          X_penal = Auto,  # this is used to penalize currently set point. L_penal, C_penal will be automatically selected based on data\n",
    "                          X_favor = None\n",
    "                         )\n",
    "\n",
    "executor = concurrent.futures.ThreadPoolExecutor(max_workers=1)\n",
    "y1_future = executor.submit(delayed_bilog_inv_rosen,x1.flatten())  # asynchronous parallel objective evaluation"
   ]
  },
  {
   "cell_type": "code",
   "execution_count": 20,
   "id": "46b72b77",
   "metadata": {},
   "outputs": [
    {
     "name": "stdout",
     "output_type": "stream",
     "text": [
      "[████████████████████████████████████████] 100%/100%\n",
      "\n"
     ]
    },
    {
     "data": {
      "text/plain": [
       "<matplotlib.legend.Legend at 0x2076b48d4f0>"
      ]
     },
     "execution_count": 20,
     "metadata": {},
     "output_type": "execute_result"
    },
    {
     "data": {
      "image/png": "[encoded data removed]",
      "text/plain": [
       "<Figure size 288x216 with 2 Axes>"
      ]
     },
     "metadata": {
      "needs_background": "light"
     },
     "output_type": "display_data"
    }
   ],
   "source": [
    "# check acuquisition functions\n",
    "fig,ax = plt.subplots(figsize=(4,3))\n",
    "bo.plot_acquisition_2D_projection(project_maximum=True,fig=fig,ax=ax)\n",
    "fig.tight_layout()\n",
    "ax.legend()"
   ]
  },
  {
   "cell_type": "markdown",
   "id": "ccdf7071",
   "metadata": {},
   "source": [
    "###### 2nd query while evaluating 1st candidate"
   ]
  }
 ],
 "metadata": {
  "kernelspec": {
   "display_name": "Python 3 (ipykernel)",
   "language": "python",
   "name": "python3"
  },
  "language_info": {
   "codemirror_mode": {
    "name": "ipython",
    "version": 3
   },
   "file_extension": ".py",
   "mimetype": "text/x-python",
   "name": "python",
   "nbconvert_exporter": "python",
   "pygments_lexer": "ipython3",
   "version": "3.9.7"
  }
 },
 "nbformat": 4,
 "nbformat_minor": 5
}
