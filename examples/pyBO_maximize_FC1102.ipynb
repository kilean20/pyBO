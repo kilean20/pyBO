{
 "cells": [
  {
   "cell_type": "code",
   "execution_count": null,
   "id": "desperate-violation",
   "metadata": {},
   "outputs": [],
   "source": [
    "import numpy as np\n",
    "import sys\n",
    "import matplotlib.pyplot as plt\n",
    "import time\n",
    "import datetime\n",
    "import concurrent\n",
    "\n",
    "from phantasy import fetch_data, caget"
   ]
  },
  {
   "cell_type": "code",
   "execution_count": null,
   "id": "statewide-penalty",
   "metadata": {},
   "outputs": [],
   "source": [
    "from maximize_FC import maximize_FC814, maximize_FC977, maximize_FC998, maximize_FC1102\n",
    "from pyBO import pyBO\n",
    "from pyBO.model import GaussianProcess\n",
    "from pyBO.covfunc import matern52\n",
    "from pyBO.util import proximal_ordered_init_sampler\n",
    "from pyBO import Auto"
   ]
  },
  {
   "cell_type": "code",
   "execution_count": null,
   "id": "collected-quarter",
   "metadata": {},
   "outputs": [],
   "source": [
    "now = str(datetime.datetime.now())\n",
    "now = now[:now.rfind(':')].replace(' ','_').replace(':',';')\n",
    "now"
   ]
  },
  {
   "cell_type": "markdown",
   "id": "opened-indicator",
   "metadata": {},
   "source": [
    "# preprare objective"
   ]
  },
  {
   "cell_type": "code",
   "execution_count": null,
   "id": "beginning-robin",
   "metadata": {},
   "outputs": [],
   "source": [
    "obj = maximize_FC1102(decision_L2reg=0.01,\n",
    "                      decision_CSETs=['FE_LEBT:PSC2_D0948:I_CSET', 'FE_LEBT:PSC1_D0948:I_CSET',\n",
    "                                      'FE_LEBT:PSC2_D0964:I_CSET', 'FE_LEBT:PSC1_D0964:I_CSET',\n",
    "                                      'FE_LEBT:PSC2_D0979:I_CSET', 'FE_LEBT:PSC1_D0979:I_CSET',],\n",
    "                      decision_min=[-2.5]*6,\n",
    "                      decision_max=[ 2.5]*6,\n",
    "                      weight_BCM_ratio=0.8,\n",
    "                 )\n",
    "# obj.decision_bounds = np.array([[-2,2],[-2,2]])"
   ]
  },
  {
   "cell_type": "code",
   "execution_count": null,
   "id": "historic-pulse",
   "metadata": {},
   "outputs": [],
   "source": [
    "obj.prepare_objective()"
   ]
  },
  {
   "cell_type": "markdown",
   "id": "departmental-tennis",
   "metadata": {},
   "source": [
    " # BO intial training data sampling"
   ]
  },
  {
   "cell_type": "code",
   "execution_count": null,
   "id": "extreme-petroleum",
   "metadata": {},
   "outputs": [],
   "source": [
    "obj.x0"
   ]
  },
  {
   "cell_type": "code",
   "execution_count": null,
   "id": "hybrid-prototype",
   "metadata": {},
   "outputs": [],
   "source": [
    "n_init = 64\n",
    "\n",
    "train_x = proximal_ordered_init_sampler(n_init,\n",
    "                                      bounds=obj.decision_bounds,\n",
    "                                      x0=obj.x0,\n",
    "                                      ramping_rate=obj.decision_tols,\n",
    "                                      polarity_change_time=15\n",
    "                                     )\n",
    "train_y = np.zeros(n_init)\n",
    "for i,x in enumerate(train_x):\n",
    "    train_y[i] = obj(x) # + 1e-6+np.random.randn()"
   ]
  },
  {
   "cell_type": "code",
   "execution_count": null,
   "id": "environmental-bernard",
   "metadata": {},
   "outputs": [],
   "source": [
    "fig,ax = plt.subplots(figsize=(3,3))\n",
    "ax.plot(train_x[:,0],train_x[:,1],alpha=0.5,c='r')\n",
    "ax.scatter(train_x[:,0],train_x[:,1])\n",
    "ax.hlines(0,obj.decision_bounds[0,0],obj.decision_bounds[0,1],ls='--',color='k');\n",
    "ax.vlines(0,obj.decision_bounds[1,0],obj.decision_bounds[1,1],ls='--',color='k');\n",
    "ax.set_xlim(obj.decision_bounds[0,0],obj.decision_bounds[0,1]);\n",
    "ax.set_ylim(obj.decision_bounds[1,0],obj.decision_bounds[1,1]);\n",
    "ax.set_xlabel(obj.decision_CSETs[0]);\n",
    "ax.set_ylabel(obj.decision_CSETs[1]);\n",
    "fig.tight_layout()\n",
    "fig.savefig(now+\"_FC1102_init_samples.png\",dpi=180)"
   ]
  },
  {
   "cell_type": "code",
   "execution_count": null,
   "id": "julian-mountain",
   "metadata": {},
   "outputs": [],
   "source": [
    "model = GaussianProcess(matern52())\n",
    "bo = pyBO.BO(model=model,\n",
    "             x=train_x,\n",
    "             y=train_y,\n",
    "             bounds=obj.decision_bounds,\n",
    "             acquisition_func= 'EI',\n",
    "            )"
   ]
  },
  {
   "cell_type": "code",
   "execution_count": null,
   "id": "graphic-analyst",
   "metadata": {},
   "outputs": [],
   "source": [
    "x1 = bo.query_candidates(\n",
    "                         polarity_penalty=0.1,\n",
    "                         X_penal = None, \n",
    "                         X_favor = None)\n",
    "\n",
    "executor = concurrent.futures.ThreadPoolExecutor(max_workers=1)\n",
    "y1_future = executor.submit(obj,x1.flatten())"
   ]
  },
  {
   "cell_type": "code",
   "execution_count": null,
   "id": "rental-diversity",
   "metadata": {},
   "outputs": [],
   "source": [
    "x2 = bo.query_candidates(\n",
    "                         X_current = Auto,\n",
    "                         x_candidate=x1,\n",
    "                         y_candidate_future=y1_future,\n",
    "                         polarity_penalty=0.1,\n",
    "                         X_penal = Auto, \n",
    "                         X_favor = None)"
   ]
  },
  {
   "cell_type": "code",
   "execution_count": null,
   "id": "beneficial-carbon",
   "metadata": {},
   "outputs": [],
   "source": [
    "y1 = [y1_future.result()]\n",
    "y2_future = executor.submit(obj,x2.flatten())\n",
    "bo.update_model(x1=x1,y1=y1)"
   ]
  },
  {
   "cell_type": "code",
   "execution_count": null,
   "id": "trained-disability",
   "metadata": {},
   "outputs": [],
   "source": [
    "x = x2\n",
    "y_future = y2_future\n",
    "# for i in range(32):\n",
    "for i in range(64-2):\n",
    "    print(i)\n",
    "    x,y_future = bo.step(obj, x, y_future, polarity_penalty=Auto, X_penal=Auto, X_favor=None)"
   ]
  },
  {
   "cell_type": "code",
   "execution_count": null,
   "id": "printable-letters",
   "metadata": {},
   "outputs": [],
   "source": [
    "fig,ax = plt.subplots(figsize=(5,3))\n",
    "bo.plot_obj_history(ax=ax)\n",
    "fig.tight_layout()\n",
    "fig.savefig(now+\"_FC1102_history.png\",dpi=180)"
   ]
  },
  {
   "cell_type": "code",
   "execution_count": null,
   "id": "periodic-mother",
   "metadata": {},
   "outputs": [],
   "source": [
    "best_x,best_y, = bo.best_sofar()\n",
    "best_x,best_y"
   ]
  },
  {
   "cell_type": "code",
   "execution_count": null,
   "id": "empirical-incentive",
   "metadata": {},
   "outputs": [],
   "source": [
    "obj(best_x)"
   ]
  },
  {
   "cell_type": "code",
   "execution_count": null,
   "id": "lovely-interval",
   "metadata": {},
   "outputs": [],
   "source": [
    "# obj(x.flatten())"
   ]
  },
  {
   "cell_type": "code",
   "execution_count": null,
   "id": "monetary-shaft",
   "metadata": {},
   "outputs": [],
   "source": [
    "fig,ax = plt.subplots(2,2,figsize=(10,8))\n",
    "bo.plot_acquisition_2D_projection(epoch=0, fig=fig, ax=ax[0,0], project_maximum=True, grid_ponits_each_dim=16)\n",
    "ax[0,0].set_title('epoch 0');\n",
    "bo.plot_acquisition_2D_projection(epoch=1, fig=fig, ax=ax[0,1], project_maximum=True, grid_ponits_each_dim=16)\n",
    "ax[0,1].set_title('epoch 1');\n",
    "bo.plot_acquisition_2D_projection(epoch=2, fig=fig, ax=ax[1,0], project_maximum=True, grid_ponits_each_dim=16)\n",
    "ax[1,0].set_title('epoch 2');\n",
    "bo.plot_acquisition_2D_projection(epoch=-1, fig=fig, ax=ax[1,1], project_maximum=True, grid_ponits_each_dim=16)\n",
    "ax[1,1].set_title('Final epoch');\n",
    "\n",
    "ax[1,0].set_xlabel(obj.decision_CSETs[0])\n",
    "ax[1,1].set_xlabel(obj.decision_CSETs[0])\n",
    "ax[0,0].set_ylabel(obj.decision_CSETs[1])\n",
    "ax[0,1].set_ylabel(obj.decision_CSETs[1])\n",
    "\n",
    "fig.tight_layout()\n",
    "fig.savefig(now+\"_FC1102_acquisition.png\",dpi=180)"
   ]
  },
  {
   "cell_type": "code",
   "execution_count": null,
   "id": "unlimited-receipt",
   "metadata": {},
   "outputs": [],
   "source": [
    "fig,ax = plt.subplots(2,2,figsize=(10,8))\n",
    "bo.plot_model_2D_projection(epoch=0, fig=fig, ax=ax[0,0], project_maximum=True, grid_ponits_each_dim=16)\n",
    "ax[0,0].set_title('epoch 0');\n",
    "bo.plot_model_2D_projection(epoch=1, fig=fig, ax=ax[0,1], project_maximum=True, grid_ponits_each_dim=16)\n",
    "ax[0,1].set_title('epoch 1');\n",
    "bo.plot_model_2D_projection(epoch=2, fig=fig, ax=ax[1,0], project_maximum=True, grid_ponits_each_dim=16)\n",
    "ax[1,0].set_title('epoch 2');\n",
    "bo.plot_model_2D_projection(epoch=-1, fig=fig, ax=ax[1,1], project_maximum=True, grid_ponits_each_dim=16)\n",
    "ax[1,1].set_title('Final epoch');\n",
    "\n",
    "ax[1,0].set_xlabel(obj.decision_CSETs[0])\n",
    "ax[1,1].set_xlabel(obj.decision_CSETs[0])\n",
    "ax[0,0].set_ylabel(obj.decision_CSETs[1])\n",
    "ax[0,1].set_ylabel(obj.decision_CSETs[1])\n",
    "\n",
    "fig.tight_layout()\n",
    "fig.savefig(now+\"_FC1102_mean_model.png\",dpi=180)"
   ]
  },
  {
   "cell_type": "code",
   "execution_count": null,
   "id": "talented-laptop",
   "metadata": {},
   "outputs": [],
   "source": [
    "best_x, best_y"
   ]
  },
  {
   "cell_type": "code",
   "execution_count": null,
   "id": "hungry-rental",
   "metadata": {},
   "outputs": [],
   "source": [
    "now"
   ]
  }
 ],
 "metadata": {
  "kernelspec": {
   "display_name": "Python 3",
   "language": "python",
   "name": "python3"
  },
  "language_info": {
   "codemirror_mode": {
    "name": "ipython",
    "version": 3
   },
   "file_extension": ".py",
   "mimetype": "text/x-python",
   "name": "python",
   "nbconvert_exporter": "python",
   "pygments_lexer": "ipython3",
   "version": "3.9.2"
  }
 },
 "nbformat": 4,
 "nbformat_minor": 5
}
