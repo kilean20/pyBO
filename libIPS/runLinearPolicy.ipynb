{
 "cells": [
  {
   "cell_type": "code",
   "execution_count": 1,
   "id": "e75b42b0",
   "metadata": {},
   "outputs": [],
   "source": [
    "import linac\n",
    "from beam import Particle\n",
    "import numpy as np\n",
    "import time\n",
    "import concurrent\n",
    "import matplotlib.pyplot as plt\n",
    "import pandas as pd\n",
    "from scipy import optimize\n",
    "from copy import deepcopy as copy\n",
    "\n",
    "from pyBO import pyBO\n",
    "from pyBO import Auto\n",
    "from pyBO.model import GaussianProcess\n",
    "from pyBO.covfunc import squaredExponential, matern52, matern32\n",
    "from pyBO.util import proximal_ordered_init_sampler\n",
    "from pyBO.acquisition import UpperConfidenceBound\n",
    "from pyBO import covfunc"
   ]
  },
  {
   "cell_type": "code",
   "execution_count": 2,
   "id": "technical-architect",
   "metadata": {},
   "outputs": [],
   "source": [
    "from phantasy import caget, fetch_data, caput, ensure_set"
   ]
  },
  {
   "cell_type": "code",
   "execution_count": 3,
   "id": "incomplete-marsh",
   "metadata": {},
   "outputs": [],
   "source": [
    "A=124\n",
    "Q=26\n",
    "init_energy = 17.2e6  # before CB11 last cav\n",
    "after_stripper_energy_ref = 16.54e6  \n",
    "\n",
    "stripper_dE = 0.632e6\n",
    "stripper_ddE = 0.009e6\n",
    "stripper_ddE_freq = 1/30"
   ]
  },
  {
   "cell_type": "code",
   "execution_count": 4,
   "id": "synthetic-configuration",
   "metadata": {},
   "outputs": [],
   "source": [
    "decision_CSETs = [['LS1_CB11:RFC_D1918:PHA_CSET'],\n",
    "                  ['FS1_CH01:RFC_D2137:PHA_CSET',\n",
    "                   'FS1_CH01:RFC_D2141:PHA_CSET',\n",
    "                   'FS1_CH01:RFC_D2148:PHA_CSET',\n",
    "                   'FS1_CH01:RFC_D2152:PHA_CSET'] ]\n",
    "\n",
    "PV_E_before = 'W1'\n",
    "PV_E_after  = 'W2'\n",
    "PV_BPM = \"FS1_CSS:BPM_D2313:PHASE_RD\"\n",
    "objective_RD = [PV_E_before,PV_E_after,PV_BPM]\n",
    "\n",
    "decision_min = -4\n",
    "decision_max =  4\n",
    "\n",
    "decision_CAV_field_amplitude = [1.5,3]\n",
    "decision_CAV_synchronous_phase = [-115,-90]"
   ]
  },
  {
   "cell_type": "code",
   "execution_count": 5,
   "id": "equipped-coordinate",
   "metadata": {},
   "outputs": [
    {
     "name": "stdout",
     "output_type": "stream",
     "text": [
      "decision_coupling_index:  [0, 1, 1, 1, 1]\n"
     ]
    }
   ],
   "source": [
    "decision_coupling_index = []\n",
    "for i,decision in enumerate(decision_CSETs):\n",
    "    if type(decision) is not list:\n",
    "        decision_CSETs[i] = [decision]\n",
    "    decision_coupling_index += [i]*len(decision_CSETs[i])\n",
    "\n",
    "decision_CSETs = [pv for sublist in decision_CSETs for pv in sublist]\n",
    "decision_CAV = [pv[:pv.rfind(':')] for pv in decision_CSETs]\n",
    "decision_min = [float(decision_min)]*len(decision_CSETs)\n",
    "decision_max = [float(decision_max)]*len(decision_CSETs)\n",
    "\n",
    "print(\"decision_coupling_index: \",decision_coupling_index)"
   ]
  },
  {
   "cell_type": "markdown",
   "id": "photographic-charles",
   "metadata": {},
   "source": [
    "# Cyclic distance and mean"
   ]
  },
  {
   "cell_type": "code",
   "execution_count": 6,
   "id": "thrown-canberra",
   "metadata": {},
   "outputs": [],
   "source": [
    "def cyclic_distance(x,y,Lo,Hi,oriented=False):\n",
    "    x_angle = 2*np.pi*(x-Lo)/(Hi-Lo)\n",
    "    y_angle = 2*np.pi*(y-Lo)/(Hi-Lo)\n",
    "    distance = 1-np.cos(y_angle-x_angle)\n",
    "    if oriented:\n",
    "        return distance*np.sign(np.sin(y_angle-x_angle))\n",
    "    else:\n",
    "        return distance\n",
    "\n",
    "    \n",
    "def cyclic_mean(x,Lo,Hi):\n",
    "    x_ = np.array(x)\n",
    "    if len(x_)<1:\n",
    "        return x\n",
    "    else:\n",
    "        return np.mod(np.angle(np.mean(np.exp(1j*2*np.pi*(x_-Lo)/(Hi-Lo)))),2*np.pi)/(2*np.pi)*(Hi-Lo) + Lo\n",
    "\n",
    "def cyclic_mean_var(x,Lo,Hi):\n",
    "    x_ = np.array(x)\n",
    "    if len(x_)<1:\n",
    "        return x, 0\n",
    "    else:\n",
    "        z_mean = np.mean(np.exp(1j*2*np.pi*(x_-Lo)/(Hi-Lo)))\n",
    "        mean = np.mod(np.angle(z_mean),2*np.pi)/(2*np.pi)*(Hi-Lo) + Lo\n",
    "        dist = 0\n",
    "        for _ in x_:\n",
    "            dist += np.min([( _+i*(Hi-Lo)-mean)**2 for i in [-1,0,1]])\n",
    "        \n",
    "        return mean, dist/len(x_) #(1-np.abs(z_mean))*(Hi-Lo)**2"
   ]
  },
  {
   "cell_type": "markdown",
   "id": "saved-jurisdiction",
   "metadata": {},
   "source": [
    "# Prepare IPS"
   ]
  },
  {
   "cell_type": "code",
   "execution_count": 7,
   "id": "massive-basement",
   "metadata": {},
   "outputs": [],
   "source": [
    "def slice_lattice_file(fromElemName,toElemName,\n",
    "                       old_lattice='./data/lattices/FRIB_Linac.ltc',\n",
    "                       new_lattice='./data/lattices/tmp.ltc'):\n",
    "    \n",
    "    lattice = pd.read_csv(old_lattice,delimiter='\\t',index_col=0)\n",
    "    i_from = lattice.index[lattice.Name == fromElemName][0]\n",
    "    i_to   = lattice.index[lattice.Name ==   toElemName][0]\n",
    "    lattice = lattice.loc[i_from:i_to]\n",
    "    lattice.index = np.arange(len(lattice))\n",
    "    lattice['z(mm)'] = np.round(lattice['z(mm)']-lattice.loc[0]['z(mm)'],decimals=6)\n",
    "    lattice.to_csv(new_lattice,sep='\\t',index_label='N')"
   ]
  },
  {
   "cell_type": "code",
   "execution_count": 9,
   "id": "sapphire-correspondence",
   "metadata": {},
   "outputs": [],
   "source": [
    "zCav = []\n",
    "zStrip = []\n",
    "for ips_cav in IPS_to_strip.cavities:\n",
    "    if 'RFC' in ips_cav.name:\n",
    "        zCav.append(ips_cav.zc)\n",
    "    if 'STR' in ips_cav.name:\n",
    "        zStrip.append(ips_cav.zc)"
   ]
  },
  {
   "cell_type": "code",
   "execution_count": 10,
   "id": "confirmed-harmony",
   "metadata": {},
   "outputs": [
    {
     "name": "stdout",
     "output_type": "stream",
     "text": [
      "0 0\n",
      "1 1\n",
      "2 2\n",
      "3 3\n",
      "4 4\n"
     ]
    }
   ],
   "source": [
    "iIPS_cav = [0]*len(decision_CAV)\n",
    "for i,dec_cav in enumerate(decision_CAV):\n",
    "    for j,ips_cav in enumerate(IPS_to_strip.cavities):\n",
    "        if dec_cav == ips_cav.name:\n",
    "            print(i,j)\n",
    "            iIPS_cav[i]=j"
   ]
  },
  {
   "cell_type": "code",
   "execution_count": 11,
   "id": "saved-lobby",
   "metadata": {},
   "outputs": [
    {
     "name": "stdout",
     "output_type": "stream",
     "text": [
      "LS1_CB11:RFC_D1918 0 0 1.5 -115\n",
      "FS1_CH01:RFC_D2137 1 1 3 -90\n",
      "FS1_CH01:RFC_D2141 2 1 3 -90\n",
      "FS1_CH01:RFC_D2148 3 1 3 -90\n",
      "FS1_CH01:RFC_D2152 4 1 3 -90\n"
     ]
    }
   ],
   "source": [
    "j=0\n",
    "for i in iIPS_cav:\n",
    "    j = decision_coupling_index[i]\n",
    "    amp = decision_CAV_field_amplitude[j]\n",
    "    syn = decision_CAV_synchronous_phase[j]\n",
    "    IPS_to_strip.cavities[i].field_amplitude = amp\n",
    "    IPS_to_strip.cavities[i].synchronous_phase = syn*np.pi/180\n",
    "    print(IPS_to_strip.cavities[i].name,\n",
    "          i,j,amp,syn)"
   ]
  },
  {
   "cell_type": "code",
   "execution_count": 12,
   "id": "robust-address",
   "metadata": {},
   "outputs": [],
   "source": [
    "IPS_to_strip_ttf2 = IPS_to_strip\n",
    "IPS_to_strip_ttf2.model_type = IPS_to_strip.ttf2_model\n",
    "IPS_to_strip_realistic = copy(IPS_to_strip)\n",
    "IPS_to_strip_realistic.model_type = IPS_to_strip.realistic_model"
   ]
  },
  {
   "cell_type": "code",
   "execution_count": 13,
   "id": "accessory-potential",
   "metadata": {},
   "outputs": [],
   "source": [
    "def simulate(IPS_to_strip,\n",
    "             IPS_from_strip=IPS_from_strip,\n",
    "             init_phase=0,\n",
    "             init_energy=init_energy,\n",
    "             phase=0,\n",
    "             phase_linac=False,\n",
    "             stripper_dE=stripper_dE,\n",
    "             stripper_ddE=stripper_ddE,\n",
    "             ddE=None,\n",
    "             BPMnoise=None,\n",
    "             Enoise=None):\n",
    "    ion = Particle(A,Q,init_energy,initial_phase=init_phase)\n",
    "    if phase_linac:\n",
    "        for cavity in IPS_to_strip.cavities:\n",
    "            cavity.turn_off()\n",
    "        IPS_to_strip.track_particle(ion)\n",
    "        for cavity_index, cav in enumerate(IPS_to_strip.cavities):\n",
    "            IPS_to_strip.cavities[cavity_index].turn_on()\n",
    "            IPS_to_strip.set_phys(cavity_index, ion)\n",
    "        \n",
    "        dE = -stripper_dE\n",
    "        if ddE is None:\n",
    "            dE += stripper_ddE*np.sin(phase)\n",
    "        else:\n",
    "            dE += ddE\n",
    "            \n",
    "        tau = ion.tau\n",
    "        ion = Particle(A,Q,ion.W/A + dE)\n",
    "        ion.initial_phase = tau/np.pi*180\n",
    "\n",
    "        for cavity in IPS_from_strip.cavities:\n",
    "            cavity.turn_off()\n",
    "        IPS_from_strip.track_particle(ion)\n",
    "        for cavity_index, cav in enumerate(IPS_from_strip.cavities):\n",
    "            IPS_from_strip.cavities[cavity_index].turn_on()\n",
    "            IPS_from_strip.set_phys(cavity_index, ion)\n",
    "            \n",
    "    ion = Particle(A,Q,init_energy,initial_phase=init_phase)\n",
    "    zp1,taup1,Wp1 = IPS_to_strip.track_particle(ion)\n",
    "    dE = -stripper_dE\n",
    "    if ddE is None:\n",
    "        dE += stripper_ddE*np.sin(phase)\n",
    "    else:\n",
    "        dE += ddE\n",
    "    tau = ion.tau\n",
    "    ion = Particle(A,Q,ion.W/A + dE)\n",
    "    ion.initial_phase = tau/np.pi*180\n",
    "    zp2,taup2,Wp2 = IPS_from_strip.track_particle(ion)\n",
    "    \n",
    "    bpm_phase = np.array([linac.wrap(bpm.phase*180/np.pi,limit=90) for bpm in IPS_from_strip.bpms])\n",
    "\n",
    "    return np.concatenate((zp1,zp2+zp1[-1])),np.concatenate((taup1,taup2)),np.concatenate((Wp1,Wp2))/A, bpm_phase, Wp1[-1]/A, Wp2[0]/A"
   ]
  },
  {
   "cell_type": "code",
   "execution_count": 14,
   "id": "younger-latino",
   "metadata": {},
   "outputs": [],
   "source": [
    "def cost(x):\n",
    "    init_energy = x[0]\n",
    "    z,tau,W,bpm_phase,w1,w2 = simulate(IPS_to_strip_realistic,init_energy=init_energy,phase_linac=True)\n",
    "    return (w2-after_stripper_energy_ref)**2/1e8"
   ]
  },
  {
   "cell_type": "code",
   "execution_count": 15,
   "id": "oriented-michael",
   "metadata": {},
   "outputs": [
    {
     "data": {
      "text/plain": [
       "17200000.0"
      ]
     },
     "execution_count": 15,
     "metadata": {},
     "output_type": "execute_result"
    }
   ],
   "source": [
    "result = optimize.minimize(cost,init_energy)\n",
    "init_energy = result.x[0]\n",
    "init_energy"
   ]
  },
  {
   "cell_type": "code",
   "execution_count": 16,
   "id": "conditional-proxy",
   "metadata": {},
   "outputs": [
    {
     "data": {
      "text/plain": [
       "0.8870560793839395"
      ]
     },
     "execution_count": 16,
     "metadata": {},
     "output_type": "execute_result"
    }
   ],
   "source": [
    "z,tau,W,bpm_phase,W1,W2 = simulate(IPS_to_strip_realistic,init_energy=init_energy,phase_linac=True)\n",
    "(W2-after_stripper_energy_ref)/1e3"
   ]
  },
  {
   "cell_type": "code",
   "execution_count": 17,
   "id": "loved-hygiene",
   "metadata": {},
   "outputs": [
    {
     "name": "stdout",
     "output_type": "stream",
     "text": [
      "LS1_CB11:RFC_D1918 0.35388472747658284\n",
      "FS1_CH01:RFC_D2137 -152.66535594742055\n",
      "FS1_CH01:RFC_D2141 -79.94180073212\n",
      "FS1_CH01:RFC_D2148 126.52721612029211\n",
      "FS1_CH01:RFC_D2152 81.91879148765334\n",
      "FS1_STB:LITSTB_D2237 179.99999600548378\n"
     ]
    }
   ],
   "source": [
    "for cav in IPS_to_strip_realistic.cavities:\n",
    "    print(cav.name, linac.wrap(cav.phase*180/np.pi,limit=180)) "
   ]
  },
  {
   "cell_type": "code",
   "execution_count": 18,
   "id": "prospective-grove",
   "metadata": {},
   "outputs": [
    {
     "name": "stdout",
     "output_type": "stream",
     "text": [
      "LS1_WB11:BPM_D1923 43.70683368262672\n",
      "LS1_BTS:BPM_D1967 36.89858507241797\n",
      "LS1_BTS:BPM_D2027 76.14709732892334\n",
      "LS1_BTS:BPM_D2054 -71.18985634306864\n",
      "LS1_BTS:BPM_D2116 -22.329275367479568\n",
      "LS1_BTS:BPM_D2130 -82.58956086611579\n",
      "FS1_CSS:BPM_D2212 71.81884393821747\n",
      "FS1_CSS:BPM_D2223 -49.257869249137\n",
      "FS1_CSS:BPM_D2248 -60.832137089517346\n",
      "FS1_CSS:BPM_D2278 2.633236242872954\n",
      "FS1_CSS:BPM_D2313 61.50463327815669\n"
     ]
    }
   ],
   "source": [
    "for bpm in IPS_to_strip_realistic.bpms + IPS_from_strip.bpms:\n",
    "    print(bpm.name, linac.wrap(bpm.phase*180/np.pi,limit=90))"
   ]
  },
  {
   "cell_type": "code",
   "execution_count": 19,
   "id": "aquatic-reminder",
   "metadata": {},
   "outputs": [
    {
     "data": {
      "text/plain": [
       "<matplotlib.collections.LineCollection at 0x7f00f16044c0>"
      ]
     },
     "execution_count": 19,
     "metadata": {},
     "output_type": "execute_result"
    },
    {
     "data": {
      "image/png": "[encoded data removed]",
      "text/plain": [
       "<Figure size 720x144 with 1 Axes>"
      ]
     },
     "metadata": {
      "needs_background": "light"
     },
     "output_type": "display_data"
    }
   ],
   "source": [
    "plt.figure(figsize=(10,2))\n",
    "plt.plot(z,W,'-*r')\n",
    "plt.vlines(zCav,W.min(),W.max())\n",
    "plt.vlines(zStrip,W.min(),W.max(),'k')"
   ]
  },
  {
   "cell_type": "code",
   "execution_count": 20,
   "id": "sexual-designation",
   "metadata": {},
   "outputs": [
    {
     "data": {
      "text/plain": [
       "<matplotlib.legend.Legend at 0x7f00f16e0880>"
      ]
     },
     "execution_count": 20,
     "metadata": {},
     "output_type": "execute_result"
    },
    {
     "data": {
      "image/png": "[encoded data removed]",
      "text/plain": [
       "<Figure size 288x144 with 1 Axes>"
      ]
     },
     "metadata": {
      "needs_background": "light"
     },
     "output_type": "display_data"
    }
   ],
   "source": [
    "BPMs = np.zeros((16,3))\n",
    "phases = np.linspace(-np.pi,np.pi,16)\n",
    "for i,phase in enumerate(phases):\n",
    "    z,tau,W,BPMs[i,:],_,_ = simulate(IPS_to_strip_realistic,phase=phase,phase_linac=False)\n",
    "    \n",
    "fig,ax = plt.subplots(figsize=(4,2))\n",
    "for i in range(3):\n",
    "    bpm = BPMs[:,i]-cyclic_mean(BPMs[:,i],-90,90)\n",
    "    ax.plot(phases,linac.wrap(bpm,90),label=IPS_from_strip.bpms[i].name)\n",
    "ax.legend()"
   ]
  },
  {
   "cell_type": "code",
   "execution_count": null,
   "id": "fourth-turning",
   "metadata": {},
   "outputs": [],
   "source": [
    "plt.figure(figsize=(4,2))\n",
    "plt.plot(BPMs[:,0]-cyclic_mean(BPMs[:,0],-90,90))"
   ]
  },
  {
   "cell_type": "markdown",
   "id": "adequate-breach",
   "metadata": {},
   "source": [
    "# IPS virtual machine"
   ]
  },
  {
   "cell_type": "code",
   "execution_count": null,
   "id": "boxed-robertson",
   "metadata": {},
   "outputs": [],
   "source": [
    "class VirtualMachine_IPS:\n",
    "    def __init__(\n",
    "        IPS_to_strip,\n",
    "        IPS_from_strip,\n",
    "        decision_CSETs = decision_CSETs,\n",
    "        objective_RD = objective_RD,\n",
    "        init_energy = init_energy,\n",
    "        stripper_dE = stripper_dE,\n",
    "        stripper_ddE = stripper_ddE,\n",
    "        stripper_ddE_freq = stripper_ddE_freq,\n",
    "        W1_ref = None,\n",
    "        realistic_time = False,\n",
    "        init_ave_time = 30):\n",
    "        \n",
    "\n",
    "        self.IPS_to_strip = IPS_to_strip\n",
    "        self.IPS_from_strip = IPS_from_strip\n",
    "        self.decision_CSETs = decision_CSETs\n",
    "        self.objective_RD = objective_RD\n",
    "        self.init_energy = init_energy\n",
    "        self.stripper_dE = stripper_dE\n",
    "        self.stripper_ddE = stripper_ddE\n",
    "        self.stripper_ddE_freq = stripper_ddE_freq\n",
    "        self.W1_ref = W1_ref\n",
    "        self.realistic_time = realistic_time\n",
    "        self.init_ave_time = init_ave_time\n",
    "        \n",
    "        \n",
    "        z,tau,W,BPMs,W0,W1 = simulate(\n",
    "            IPS_to_strip=self.IPS_to_strip,\n",
    "            IPS_from_strip=self.IPS_from_strip,\n",
    "            phase=0,\n",
    "            phase_linac=True)\n",
    "        self.cav_phase_ref = [cav.phase for cav in self.IPS_to_strip.cavities[:-1]]\n",
    "        \n",
    "        \n",
    "        self.history = {}\n",
    "        for pv in self.decision_CSETs:\n",
    "            self.history[pv] = []\n",
    "        self.history['time'] = []\n",
    "        self.history[PV_E_before]  = []\n",
    "        self.history[PV_E_after]   = []\n",
    "        self.history[objective_RD] = []\n",
    "        \n",
    "        if self.realistic_time:\n",
    "            self.t0 = time.time()\n",
    "            ave_data,var_data,raw_data = self.fetch_data(T=init_ave_time,return_var=True,raw_data=True) \n",
    "        else:\n",
    "            self.t = 0\n",
    "            ave_data,raw_data = self.fetch_data(T=1/stripper_ddE_freq,return_var=True,raw_data=True) \n",
    "        \n",
    "        self.dE_ave = ave_data[PV_E_after] - ave_data[PV_E_before]\n",
    "        \n",
    "        self.W1_ave = W1_ref or ave_data[PV_E_after]\n",
    "#         self.BPM_ave = ave_data[BPMnames[-1]]\n",
    "        \n",
    "#         self.W1_var = var_data['W1']\n",
    "#         self.BPM_var = var_data[BPMnames[-1]]\n",
    "        \n",
    "        \n",
    "    def __call__(self):\n",
    "        if self.realistic_time:\n",
    "            t = time.time()-self.t0\n",
    "            time.sleep(0.19)\n",
    "        else:\n",
    "            t = self.t\n",
    "            self.t += 0.2  #BPM period\n",
    "        phase = np.mod(2*np.pi*self.stripper_ddE_freq*t,2*np.pi)\n",
    "        z,tau,W,BPMs,W0,W1 = simulate( \n",
    "            IPS_to_strip=self.IPS_to_strip,\n",
    "            IPS_from_strip=self.IPS_from_strip,\n",
    "            phase=phase,\n",
    "            phase_linac=False)\n",
    "        \n",
    "        self.history['time'].append(t)   \n",
    "        for i,pv in enumerate(self.decision_CSETs):\n",
    "            name = pv[:pv.rfind(\":\")]\n",
    "            for j,ips_cav in enumerate(self.IPS_to_strip.cavities):\n",
    "                if name == ips_cav.name:\n",
    "                    self.history[pv].append(ips_cav.phase)\n",
    "        self.history[PV_E_before].append(W0)\n",
    "        self.history[PV_E_after ].append(W1)\n",
    "        for bpm in self.IPS_to_strip.bpms + self.IPS_from_strip.bpms:\n",
    "            \n",
    "            self.history[bpm.name].append(linac.wrap(bpm.phase*180/np.pi,limit=90))\n",
    "                       \n",
    "\n",
    "    def virtual_run(self,phase):\n",
    "        z,tau,W,BPMs,W0,W1 = simulate(   \n",
    "            IPS_to_strip=self.IPS_to_strip,\n",
    "            phase=phase,\n",
    "            IPS_from_strip=self.IPS_from_strip,\n",
    "            phase_linac=False  )\n",
    "        return z,tau,W,BPMs,W0,W1\n",
    "                       \n",
    "        \n",
    "    def ensure_set(setpoint_pv,readback_pv,goal,tol=None):\n",
    "        for i,pv in enumerate(setpoint_pv):\n",
    "            name = pv[:pv.rfind(\":\")]\n",
    "            for j,ips_cav in enumerate(self.IPS_to_strip.cavities):\n",
    "                if name == ips_cav.name:\n",
    "                    cav.phase = goal[i]\n",
    "\n",
    "      \n",
    "    def fetch_data(self,pvlist,time_span,abs_z=None,with_data=False):\n",
    "        data = {pv:[] for pv in pvlist}\n",
    "        if self.realistic_time:\n",
    "            t0 = time.time()-self.t0\n",
    "        else:\n",
    "            t0 = self.t\n",
    "        while(True):\n",
    "            if self.realistic_time:\n",
    "                t = time.time()-self.t0\n",
    "            else:\n",
    "                t = self.t\n",
    "                if t-t0-0.1 < time_span < t-t0+0.1:\n",
    "                break\n",
    "            self()\n",
    "            \n",
    "            \n",
    "        for pv in pvlist:\n",
    "            if pv == PV_E_before:\n",
    "        \n",
    "        "
   ]
  },
  {
   "cell_type": "code",
   "execution_count": null,
   "id": "5987f056",
   "metadata": {},
   "outputs": [],
   "source": [
    "from typing import List, Union, Optional\n",
    "from abc import ABC, abstractmethod\n",
    "\n",
    "def get_tolerance(PV_CSETs: List[str], fetch_data=fetch_data):\n",
    "    '''\n",
    "    Automatically define tolerance in terms of ramping rate (per sec)\n",
    "    PV_CSETs: list of CSET-PVs \n",
    "    '''\n",
    "    pv_tol = []\n",
    "    for pv in PV_CSETs:\n",
    "        pv_tol.append(pv[:pv.rfind(':')]+':RSSV_RSET')\n",
    "    tol,_ = fetch_data(pv_tol,0.01)\n",
    "    return tol\n",
    "\n",
    "\n",
    "class objFuncBase(ABC):\n",
    "    def __init__(self,\n",
    "        decision_CSETs: List[Union[str,List[str]]],\n",
    "        decision_min: Union[float,List[float]],\n",
    "        decision_max: Union[float,List[float]],\n",
    "        decision_coupling_coefficient = None,  \n",
    "        decision_L2reg: float = 0.,\n",
    "        decision_RDs: Optional[List[str]] = None,\n",
    "        decision_tols: Optional[List[float]] = None,\n",
    "        minimize: Optional[bool] = False,\n",
    "        history_buffer_size: Optional[int] = 32768,\n",
    "        fetch_data=fetch_data\n",
    "        ):\n",
    "        '''\n",
    "        decision_CSETs: [List of]List of CSET-PVs for control. Nested List if you want impose linear coupling b/w decisions. (e.g) decision_CSETs = [x0,[x1,x2]] if x1 and x2 are coupled. \n",
    "        decision_min: Float or List of minimum of 'decision_CSETs', must be len(decision_min) == len(decision_CSETs) \n",
    "        decision_max: Float or List of maximum of 'decision_CSETs', must be len(decision_min) == len(decision_CSETs) \n",
    "        decision_RDs: List of RD-PVs for control used to ensure ramping completion. If 'None' automatically decided by changing 'CSET' to 'RD' in PV name \n",
    "        decision_tols: List or numpy array of tolerance used to ensure ramping completion. If 'None' automatically decided based on ramping rate definition.\n",
    "        minimize: True/False. By default False -> objective is to be maximized. \n",
    "        wL2 >=0: L2 regularization weight to be added to the objective. zero or tiny (< 0.01) value is propoer\n",
    "        '''\n",
    "        is_decision_coupled = False\n",
    "        for decision in decision_CSETs:\n",
    "            if type(decision) is list:\n",
    "                is_decision_coupled = True\n",
    "        if is_decision_coupled:\n",
    "            self.decision_coupling_index = []\n",
    "            for i,decision in enumerate(decision_CSETs):\n",
    "                if type(decision) is not list:\n",
    "                    decision_CSETs[i] = [decision]\n",
    "                self.decision_coupling_index += [i]*len(decision_CSETs[i])\n",
    "            self.decision_CSETs = [pv for sublist in decision_CSETs for pv in sublist]  #flatten the nested list represent coupling of the decision_CSETs\n",
    "        else:\n",
    "            self.decision_coupling_index = None\n",
    "            self.decision_CSETs = decision_CSETs\n",
    "        \n",
    "        if type(decision_min) is float or type(decision_min) is int:\n",
    "            decision_min = [float(decision_min)]*len(decision_CSETs)\n",
    "        assert len(decision_min) == len(decision_CSETs)\n",
    "        self.decision_min = np.array(decision_min)\n",
    "        if type(decision_max) is float or type(decision_max) is int:\n",
    "            decision_max = [float(decision_max)]*len(decision_CSETs)\n",
    "        assert len(decision_max) == len(decision_CSETs)\n",
    "        self.decision_max = np.array(decision_max)\n",
    "        self.decision_bounds = np.array([(d_min,d_max) for (d_min,d_max) in zip(decision_min, decision_max)])\n",
    "        \n",
    "        self.decision_coupling_coefficient = decision_coupling_coefficient\n",
    "        if decision_coupling_coefficient is not None:\n",
    "            assert is_decision_coupled,  \"decision_coupling_coefficient is required only when decision_CSETs shows coupling\"\n",
    "            assert len(decision_coupling_coefficient) == len(self.decision_CSETs)\n",
    "            j=0\n",
    "            for i,decision in enumerate(decision_CSETs):\n",
    "                assert decision_coupling_coefficient[j] == 1.,  \"decision_coupling_coefficient of the element represnting coupling must be 1\"\n",
    "                j+=len(decision_CSETs[i])\n",
    "        \n",
    "        if decision_RDs is None:\n",
    "            self.decision_RDs = [pv.replace('CSET','RD') for pv in decision_CSETs]\n",
    "            try:\n",
    "                _ = fetch_data(self.decision_RDs,0.1)\n",
    "            except:\n",
    "                raise ValueError(\"Automatic decision of 'decision_RDs' failed. Check 'decision_CSETs' or provide 'decision_RDs' manually\")\n",
    "        else:\n",
    "            self.decision_RDs = decision_RDs\n",
    "        if decision_tols is None:\n",
    "            try:\n",
    "                self.decision_tols = get_tolerance(decision_CSETs)\n",
    "            except:\n",
    "                raise ValueError(\"Automatic decision of the 'decision_tols' failed. Check 'decision_CSETs' or provide 'decision_tols'\")\n",
    "        else:\n",
    "            self.decision_tols = decision_tols   \n",
    "        self.decision_L2reg = decision_L2reg\n",
    "        self.minimize = minimize\n",
    "        \n",
    "        self.history_buffer_size = history_buffer_size\n",
    "        self.history = {'time':[],\n",
    "                        'decision_CSETs':[]}\n",
    "        \n",
    "    @abstractmethod\n",
    "    def _check_device(self):\n",
    "        pass\n",
    "    \n",
    "    \n",
    "    def _get_xinit(self):\n",
    "        x0, _ = fetch_data(self.decision_CSETs,0.01)\n",
    "        self.x0 = x0\n",
    "        \n",
    "        \n",
    "    def prepare_objective(self):\n",
    "        self._check_device()\n",
    "        self._get_xinit()\n",
    "        \n",
    "        \n",
    "    def regularize(self,x):\n",
    "        if self.decision_L2reg > 0:\n",
    "            x_reg = 2*(x- self.decision_min)/(self.decision_max-self.decision_min) - 1\n",
    "            reg = self.decision_L2reg*np.mean(x_reg**2)\n",
    "            if self.minimize:\n",
    "                return reg\n",
    "            else:\n",
    "                return -reg\n",
    "        else:\n",
    "            return 0."
   ]
  },
  {
   "cell_type": "code",
   "execution_count": null,
   "id": "d2771be3",
   "metadata": {},
   "outputs": [],
   "source": [
    "import sys\n",
    "sys.path.insert(0, '../ObjFuncs')\n",
    "\n",
    "# from objFuncs import objFuncBase\n",
    "# from warnings import warn\n",
    "import numpy as np\n",
    "import datetime\n",
    "from typing import List, Union, Optional\n",
    "from phantasy import caget, fetch_data\n",
    "\n",
    "\n",
    "class LinearPolicy(objFuncBase):\n",
    "    def __init__(self,\n",
    "        decision_CSETs = [\n",
    "                          ['LS1_CB11:RFC_D1918:PHA_CSET'],\n",
    "                          ['FS1_CH01:RFC_D2137:PHA_CSET',\n",
    "                           'FS1_CH01:RFC_D2141:PHA_CSET',\n",
    "                           'FS1_CH01:RFC_D2148:PHA_CSET',\n",
    "                           'FS1_CH01:RFC_D2152:PHA_CSET'],\n",
    "                          ],\n",
    "        decision_min: Union[float,List[float]] = -5,\n",
    "        decision_max: Union[float,List[float]] =  5,\n",
    "        decision_RDs: Optional[List[str]] = None,\n",
    "        decision_tols: Optional[List[float]] = None,\n",
    "        decision_coupling_coefficient: Optional[List[float]] = None,  \n",
    "        decision_L2reg: Optional[float] = 0.,\n",
    "        minimize: Optional[bool] = False,\n",
    "        history_buffer_size: Optional[int] = 32768,\n",
    "        objective_RD_avg_time = 2\n",
    "        ):\n",
    "        super().__init__(\n",
    "                decision_CSETs =decision_CSETs,\n",
    "                decision_min = decision_min,\n",
    "                decision_max = decision_max,\n",
    "                decision_coupling_coefficient = decision_coupling_coefficient,  \n",
    "                decision_L2reg=decision_L2reg,\n",
    "                decision_RDs = decision_RDs,\n",
    "                decision_tols = decision_tols,\n",
    "                minimize = minimize,\n",
    "                )\n",
    " \n",
    "        self.history = {'time':[]}\n",
    "        for key in self.decision_CSETs:\n",
    "            self.history[key] = []\n",
    "        self.objective_RD_avg_time = objective_RD_avg_time\n",
    "            \n",
    "    def _check_device(self):\n",
    "        if caget(\"ACS_DIAG:CHP:STATE_RD\") != 3:\n",
    "            raise RuntimeError(\"Chopper not running.\")\n",
    "\n",
    "    def prepare_objective(self,avetime):\n",
    "        '''\n",
    "        -check if beam is present, relavant decices are ready. \n",
    "        -collect statistics of beam energy and BPM phase fluctuation.\n",
    "        '''\n",
    "        self._check_device()\n",
    "        self._get_xinit()\n",
    "        \n",
    "    def _get_xinit(self):\n",
    "        x0, _ = fetch_data(self.decision_CSETs,0.01)\n",
    "        self.x0 = x0\n",
    "        \n",
    "    def evaluate_objective(self,x=None,stripped_energy=None):\n",
    "        \n",
    "        if x is not None:\n",
    "            \n",
    "                cav.phase = self.cav_phase_ref[i] + x[i]/180*np.pi\n",
    "        \n",
    "        now = str(datetime.datetime.now())\n",
    "        now = now[:now.rfind('.')]\n",
    "\n",
    "        self.history['time'].append(now)\n",
    "        \n",
    "   "
   ]
  },
  {
   "cell_type": "code",
   "execution_count": null,
   "id": "d64f9146",
   "metadata": {},
   "outputs": [],
   "source": [
    "decision_CSETs = [\n",
    "                  ['LS1_CB11:RFC_D1918:PHA_CSET'],\n",
    "                  ['FS1_CH01:RFC_D2137:PHA_CSET',\n",
    "                   'FS1_CH01:RFC_D2141:PHA_CSET',\n",
    "                   'FS1_CH01:RFC_D2148:PHA_CSET',\n",
    "                   'FS1_CH01:RFC_D2152:PHA_CSET'],\n",
    "                 ]"
   ]
  },
  {
   "cell_type": "code",
   "execution_count": null,
   "id": "placed-escape",
   "metadata": {},
   "outputs": [],
   "source": [
    "for decision in decision_CSETs:\n",
    "    if type(decision) is list:\n",
    "        is_decision_coupled = True\n",
    "if is_decision_coupled:\n",
    "    decision_coupling = []\n",
    "    for i,decision in enumerate(decision_CSETs):\n",
    "        if type(decision) is not list:\n",
    "            decision_CSETs[i] = [decision]\n",
    "        decision_coupling += [i]*len(decision_CSETs[i])"
   ]
  },
  {
   "cell_type": "code",
   "execution_count": null,
   "id": "developing-flooring",
   "metadata": {},
   "outputs": [],
   "source": [
    "2**15"
   ]
  },
  {
   "cell_type": "code",
   "execution_count": null,
   "id": "exotic-manor",
   "metadata": {},
   "outputs": [],
   "source": [
    "import numpy as np"
   ]
  },
  {
   "cell_type": "code",
   "execution_count": null,
   "id": "smooth-puzzle",
   "metadata": {},
   "outputs": [],
   "source": [
    "w1 = np.ones(2)*2\n",
    "w2 = np.ones(3)*0.5\n",
    "\n",
    "wTot = w1.mean() + w2.mean()\n",
    "w1/=(wTot*2)\n",
    "w2/=(wTot*3)\n",
    "\n",
    "w1,w2"
   ]
  },
  {
   "cell_type": "code",
   "execution_count": null,
   "id": "rotary-radar",
   "metadata": {},
   "outputs": [],
   "source": [
    "w1.sum()+w2.sum()"
   ]
  },
  {
   "cell_type": "code",
   "execution_count": null,
   "id": "posted-outline",
   "metadata": {},
   "outputs": [],
   "source": [
    "def test(x):\n",
    "    assert x==1, \"asd\""
   ]
  },
  {
   "cell_type": "code",
   "execution_count": null,
   "id": "least-trustee",
   "metadata": {},
   "outputs": [],
   "source": []
  }
 ],
 "metadata": {
  "kernelspec": {
   "display_name": "Python 3",
   "language": "python",
   "name": "python3"
  },
  "language_info": {
   "codemirror_mode": {
    "name": "ipython",
    "version": 3
   },
   "file_extension": ".py",
   "mimetype": "text/x-python",
   "name": "python",
   "nbconvert_exporter": "python",
   "pygments_lexer": "ipython3",
   "version": "3.9.2"
  }
 },
 "nbformat": 4,
 "nbformat_minor": 5
}
